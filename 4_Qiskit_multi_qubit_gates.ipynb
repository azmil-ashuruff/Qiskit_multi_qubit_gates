{
  "nbformat": 4,
  "nbformat_minor": 0,
  "metadata": {
    "colab": {
      "provenance": []
    },
    "kernelspec": {
      "name": "python3",
      "display_name": "Python 3"
    },
    "language_info": {
      "name": "python"
    }
  },
  "cells": [
    {
      "cell_type": "code",
      "source": [
        "!pip install qiskit qiskit-aer --upgrade"
      ],
      "metadata": {
        "id": "Mx6284lurNt1",
        "colab": {
          "base_uri": "https://localhost:8080/"
        },
        "outputId": "1092d39c-c897-4ed9-b697-9b3e766be19c"
      },
      "execution_count": 7,
      "outputs": [
        {
          "output_type": "stream",
          "name": "stdout",
          "text": [
            "Requirement already satisfied: qiskit in /usr/local/lib/python3.12/dist-packages (2.2.1)\n",
            "Requirement already satisfied: qiskit-aer in /usr/local/lib/python3.12/dist-packages (0.17.2)\n",
            "Requirement already satisfied: rustworkx>=0.15.0 in /usr/local/lib/python3.12/dist-packages (from qiskit) (0.17.1)\n",
            "Requirement already satisfied: numpy<3,>=1.17 in /usr/local/lib/python3.12/dist-packages (from qiskit) (2.0.2)\n",
            "Requirement already satisfied: scipy>=1.5 in /usr/local/lib/python3.12/dist-packages (from qiskit) (1.16.2)\n",
            "Requirement already satisfied: dill>=0.3 in /usr/local/lib/python3.12/dist-packages (from qiskit) (0.3.8)\n",
            "Requirement already satisfied: stevedore>=3.0.0 in /usr/local/lib/python3.12/dist-packages (from qiskit) (5.5.0)\n",
            "Requirement already satisfied: typing-extensions in /usr/local/lib/python3.12/dist-packages (from qiskit) (4.15.0)\n",
            "Requirement already satisfied: psutil>=5 in /usr/local/lib/python3.12/dist-packages (from qiskit-aer) (5.9.5)\n",
            "Requirement already satisfied: python-dateutil>=2.8.0 in /usr/local/lib/python3.12/dist-packages (from qiskit-aer) (2.9.0.post0)\n",
            "Requirement already satisfied: six>=1.5 in /usr/local/lib/python3.12/dist-packages (from python-dateutil>=2.8.0->qiskit-aer) (1.17.0)\n"
          ]
        }
      ]
    },
    {
      "cell_type": "code",
      "execution_count": 8,
      "metadata": {
        "id": "VPOwLacGrCdU",
        "colab": {
          "base_uri": "https://localhost:8080/"
        },
        "outputId": "984b840b-996b-44b7-f0c4-f7d833a9d02e"
      },
      "outputs": [
        {
          "output_type": "stream",
          "name": "stdout",
          "text": [
            "Quantum Circuit (Reversed Control/Target):\n",
            "        ┌───┐┌───┐       ░ ┌─┐   \n",
            "   q_0: ┤ H ├┤ X ├─■──X──░─┤M├───\n",
            "        └───┘└─┬─┘ │  │  ░ └╥┘┌─┐\n",
            "   q_1: ───────■───■──X──░──╫─┤M├\n",
            "                         ░  ║ └╥┘\n",
            "   c: 2/════════════════════╬══╬═\n",
            "                            ║  ║ \n",
            "meas: 2/════════════════════╩══╩═\n",
            "                            0  1 \n",
            "\n",
            "Measurement Counts (Reversed Control/Target): {'10 00': 476, '00 00': 548}\n"
          ]
        }
      ],
      "source": [
        "# ===========================\n",
        "# TASK 1: Control/Target Variation\n",
        "# ===========================\n",
        "from qiskit import QuantumCircuit, transpile\n",
        "from qiskit_aer import AerSimulator\n",
        "\n",
        "sim = AerSimulator()\n",
        "\n",
        "qc1 = QuantumCircuit(2, 2)\n",
        "\n",
        "# Apply gates with reversed control/target\n",
        "qc1.h(0)\n",
        "qc1.cx(1, 0)   # Reversed CNOT (control=1, target=0)\n",
        "qc1.cz(1, 0)   # Reversed CZ (control=1, target=0)\n",
        "qc1.swap(0, 1)\n",
        "qc1.measure_all()\n",
        "\n",
        "print(\"Quantum Circuit (Reversed Control/Target):\")\n",
        "print(qc1.draw())\n",
        "\n",
        "compiled = transpile(qc1, sim)\n",
        "result1 = sim.run(compiled, shots=1024).result()\n",
        "counts1 = result1.get_counts()\n",
        "print(\"\\nMeasurement Counts (Reversed Control/Target):\", counts1)\n",
        "\n",
        "#Changing which qubit is the control changes when the second qubit\n",
        "#flips or gets phased.\n",
        "#The control qubit determines whether the gate acts at all.\n",
        "#You’ll observe that the output distribution differs — certain\n",
        "#combinations like 10 or 01 become more or less likely, showing how\n",
        "#direction of control affects correlation."
      ]
    },
    {
      "cell_type": "code",
      "source": [
        "# ===========================\n",
        "# TASK 2: Gate Removal (Remove SWAP)\n",
        "# ===========================\n",
        "from qiskit import QuantumCircuit, transpile\n",
        "from qiskit_aer import AerSimulator\n",
        "\n",
        "sim = AerSimulator()\n",
        "\n",
        "qc2 = QuantumCircuit(2, 2)\n",
        "\n",
        "# Same circuit but without the SWAP gate\n",
        "qc2.h(0)\n",
        "qc2.cx(0, 1)\n",
        "qc2.cz(0, 1)\n",
        "# qc2.swap(0, 1)   # Removed this gate\n",
        "qc2.measure_all()\n",
        "\n",
        "print(\"Quantum Circuit (Without SWAP):\")\n",
        "print(qc2.draw())\n",
        "\n",
        "compiled = transpile(qc2, sim)\n",
        "result2 = sim.run(compiled, shots=1024).result()\n",
        "counts2 = result2.get_counts()\n",
        "print(\"\\nMeasurement Counts (Without SWAP):\", counts2)\n",
        "\n",
        "#The SWAP gate exchanges the states of qubits 0 and 1.\n",
        "#Removing it means the qubit entanglement pattern is preserved\n",
        "#without exchange, so the final measurement results will show\n",
        "#different qubit order (the distribution might appear flipped\n",
        "#or asymmetric).\n",
        "#You can verify this by comparing bitstring counts ('01' vs '10').\n"
      ],
      "metadata": {
        "id": "XXSzfpG9q7hc",
        "colab": {
          "base_uri": "https://localhost:8080/"
        },
        "outputId": "c6ced1f8-dbde-4f22-d57d-a7ea8e49b144"
      },
      "execution_count": 9,
      "outputs": [
        {
          "output_type": "stream",
          "name": "stdout",
          "text": [
            "Quantum Circuit (Without SWAP):\n",
            "        ┌───┐         ░ ┌─┐   \n",
            "   q_0: ┤ H ├──■───■──░─┤M├───\n",
            "        └───┘┌─┴─┐ │  ░ └╥┘┌─┐\n",
            "   q_1: ─────┤ X ├─■──░──╫─┤M├\n",
            "             └───┘    ░  ║ └╥┘\n",
            "   c: 2/═════════════════╬══╬═\n",
            "                         ║  ║ \n",
            "meas: 2/═════════════════╩══╩═\n",
            "                         0  1 \n",
            "\n",
            "Measurement Counts (Without SWAP): {'00 00': 519, '11 00': 505}\n"
          ]
        }
      ]
    },
    {
      "cell_type": "code",
      "source": [
        "# ===========================\n",
        "# TASK 3: Add Another Hadamard\n",
        "# ===========================\n",
        "from qiskit import QuantumCircuit, transpile\n",
        "from qiskit_aer import AerSimulator\n",
        "\n",
        "sim = AerSimulator()\n",
        "\n",
        "qc3 = QuantumCircuit(2, 2)\n",
        "\n",
        "# Apply an extra Hadamard on qubit 1 before CNOT\n",
        "qc3.h(0)\n",
        "qc3.h(1)        # New Hadamard on qubit 1\n",
        "qc3.cx(0, 1)\n",
        "qc3.cz(0, 1)\n",
        "qc3.swap(0, 1)\n",
        "qc3.measure_all()\n",
        "\n",
        "print(\"Quantum Circuit (Added Hadamard on Qubit 1):\")\n",
        "print(qc3.draw())\n",
        "\n",
        "compiled = transpile(qc3, sim)\n",
        "result3 = sim.run(compiled, shots=1024).result()\n",
        "counts3 = result3.get_counts()\n",
        "print(\"\\nMeasurement Counts (Added Hadamard on Q1):\", counts3)\n",
        "\n",
        "#Now both qubits are in superposition before entanglement.\n",
        "#This introduces interference and more complex probability patterns.\n",
        "#Instead of getting only correlated states like 00 or 11,\n",
        "#you might see all combinations (00, 01, 10, 11) with varying probabilities."
      ],
      "metadata": {
        "colab": {
          "base_uri": "https://localhost:8080/"
        },
        "id": "-tPsZErMVYri",
        "outputId": "edaa29b2-2635-4ec9-ed4f-28aea1f36b4b"
      },
      "execution_count": 10,
      "outputs": [
        {
          "output_type": "stream",
          "name": "stdout",
          "text": [
            "Quantum Circuit (Added Hadamard on Qubit 1):\n",
            "        ┌───┐            ░ ┌─┐   \n",
            "   q_0: ┤ H ├──■───■──X──░─┤M├───\n",
            "        ├───┤┌─┴─┐ │  │  ░ └╥┘┌─┐\n",
            "   q_1: ┤ H ├┤ X ├─■──X──░──╫─┤M├\n",
            "        └───┘└───┘       ░  ║ └╥┘\n",
            "   c: 2/════════════════════╬══╬═\n",
            "                            ║  ║ \n",
            "meas: 2/════════════════════╩══╩═\n",
            "                            0  1 \n",
            "\n",
            "Measurement Counts (Added Hadamard on Q1): {'01 00': 257, '11 00': 261, '10 00': 255, '00 00': 251}\n"
          ]
        }
      ]
    }
  ]
}